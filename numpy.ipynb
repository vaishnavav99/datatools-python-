{
 "cells": [
  {
   "cell_type": "code",
   "execution_count": 4,
   "metadata": {},
   "outputs": [],
   "source": [
    "import numpy as np"
   ]
  },
  {
   "cell_type": "code",
   "execution_count": 20,
   "metadata": {},
   "outputs": [
    {
     "name": "stdout",
     "output_type": "stream",
     "text": [
      "45\n",
      "0\n",
      "[1 2 3]\n",
      "1\n",
      "[[1 2 3]\n",
      " [4 5 6]]\n",
      "2\n",
      "[[[1 2 3]\n",
      "  [4 5 6]]\n",
      "\n",
      " [[7 8 9]\n",
      "  [0 0 0]]]\n",
      "3\n"
     ]
    }
   ],
   "source": [
    "#0D\n",
    "a=np.array(45)\n",
    "\n",
    "#1D\n",
    "b=np.array([1,2,3])\n",
    "\n",
    "#2D\n",
    "c=np.array([[1,2,3],[4,5,6]])\n",
    "\n",
    "#3D\n",
    "d=np.array([[[1,2,3],[4,5,6]],[[7,8,9],[0,0,0]]])\n",
    "\n",
    "#float\n",
    "f=np.array([1.1,2.2,3.3])\n",
    "\n",
    "#ndim check dimmention\n",
    "\n",
    "print(a)\n",
    "print(a.ndim)\n",
    "print(b)\n",
    "print(b.ndim)\n",
    "print(c)\n",
    "print(c.ndim)\n",
    "print(d)\n",
    "print(d.ndim)\n",
    "\n",
    "#higher dimension array declaration(xth dimension)\n",
    "#arr=np.array([],ndim=x)"
   ]
  },
  {
   "cell_type": "code",
   "execution_count": 23,
   "metadata": {},
   "outputs": [
    {
     "name": "stdout",
     "output_type": "stream",
     "text": [
      "<class 'numpy.ndarray'>\n",
      "int32\n",
      "[1.1 2.2 3.3]\n",
      "[1 2 3]\n"
     ]
    }
   ],
   "source": [
    "#type\n",
    "print(type(d))\n",
    "\n",
    "#data type\n",
    "print(c.dtype)\n",
    "\n",
    "#datatype declaration\n",
    "#arr=np.array([],dtype='')\n",
    "#i,b,u,f,c,M(time),O,S,U,V\n",
    "\n",
    "print(f)\n",
    "#type conversion\n",
    "newf=f.astype('i')\n",
    "print(newf)"
   ]
  },
  {
   "cell_type": "code",
   "execution_count": 26,
   "metadata": {},
   "outputs": [
    {
     "name": "stdout",
     "output_type": "stream",
     "text": [
      "[-1  2  3]\n",
      "[-1  2  3]\n",
      "[-1  2  3]\n",
      "None\n",
      "[-1  2  3]\n"
     ]
    }
   ],
   "source": [
    "#copy vs view\n",
    "x=b.copy()\n",
    "y=b.view()\n",
    "b[0]=-1\n",
    "print(b)\n",
    "print(x)\n",
    "print(y)\n",
    "\n"
   ]
  },
  {
   "cell_type": "code",
   "execution_count": 27,
   "metadata": {},
   "outputs": [
    {
     "name": "stdout",
     "output_type": "stream",
     "text": [
      "None\n",
      "[-1  2  3]\n"
     ]
    }
   ],
   "source": [
    "#wether array owns data or not\n",
    "print(x.base)\n",
    "print(y.base)"
   ]
  },
  {
   "cell_type": "code",
   "execution_count": 31,
   "metadata": {},
   "outputs": [
    {
     "name": "stdout",
     "output_type": "stream",
     "text": [
      "(2, 3)\n",
      "[[-1]\n",
      " [ 2]\n",
      " [ 3]]\n"
     ]
    }
   ],
   "source": [
    "#shape\n",
    "print(c.shape)\n",
    "\n",
    "#shape change\n",
    "newb=b.reshape(3,1)\n",
    "print(newb)\n",
    "\n",
    "#pass -1 if unknown dimension(can be used to flattern reshape(-1))"
   ]
  },
  {
   "cell_type": "raw",
   "metadata": {},
   "source": [
    "ndilter() itterations\n",
    "ndenumerate() index\n",
    "o=np.concatenation(p,q) 1D\n",
    "o=np.concatenation((p,q),axis=1) 2D\n",
    "o=np.stack((p,q),axis=1)\n",
    "hstack row/vstack column/dstack depth\n",
    "o=np.array_split(p,<size>) \n",
    "o=np.where(p==<value>)\n",
    "o=np.where(<condition>)\n",
    "np.searchsorted(p,<value>)     [side='right/left'] searcg vere value will b inserted\n",
    "np.sort(p)\n"
   ]
  },
  {
   "cell_type": "code",
   "execution_count": 53,
   "metadata": {},
   "outputs": [
    {
     "name": "stdout",
     "output_type": "stream",
     "text": [
      "-0.4480736161291701\n",
      "3.141592653589793\n",
      "0\n",
      "0.18832568402835026\n",
      "[3 7 0]\n",
      "[[0 3]\n",
      " [0 1]]\n",
      "4\n"
     ]
    }
   ],
   "source": [
    "#random\n",
    "x=np.random.randint(10)\n",
    "print(x)\n",
    "#random float\n",
    "x=np.random.rand()\n",
    "print(x)\n",
    "#random array\n",
    "#1D\n",
    "x=np.random.randint(10,size=(3))\n",
    "print(x)\n",
    "#2D\n",
    "x=np.random.randint(10,size=(2,2))\n",
    "print(x)\n",
    "#from array\n",
    "x=np.random.choice([2,5,4])\n",
    "print(x)"
   ]
  },
  {
   "cell_type": "code",
   "execution_count": 57,
   "metadata": {},
   "outputs": [
    {
     "name": "stdout",
     "output_type": "stream",
     "text": [
      "tail\n"
     ]
    }
   ],
   "source": [
    "#toss\n",
    "v=np.random.choice(['head','tail'])\n",
    "print(v)"
   ]
  },
  {
   "cell_type": "code",
   "execution_count": 64,
   "metadata": {},
   "outputs": [
    {
     "name": "stdout",
     "output_type": "stream",
     "text": [
      "6\n",
      "[2 3 5 1 1 4 2 2 2 4 2 3 2 5 3 4 6 5 2 1 2 4 1 6 4 2 4 1 3 5 6 5 4 1 2 5 5\n",
      " 1 3 4 5 3 4 2 1 1 4 1 4 4 5 5 4 4 5 6 1 1 1 2 2 1 6 6 3 5 4 3 1 2 4 2 1 1\n",
      " 1 1 2 4 4 5 3 3 3 1 4 3 4 6 4 5 4 4 3 5 1 1 4 4 4 4]\n"
     ]
    }
   ],
   "source": [
    "#dice\n",
    "v=np.random.choice([1,2,3,4,5,6],p=[0.2,0.15,0.15,0.25,0.17,0.08])\n",
    "print(v)\n",
    "\n",
    "#test for 100 results\n",
    "v=np.random.choice([1,2,3,4,5,6],p=[0.2,0.15,0.15,0.25,0.17,0.08],size=(100))\n",
    "print(v)"
   ]
  },
  {
   "cell_type": "code",
   "execution_count": 71,
   "metadata": {},
   "outputs": [
    {
     "name": "stdout",
     "output_type": "stream",
     "text": [
      "[6 2 5 1 3 4]\n"
     ]
    }
   ],
   "source": [
    "shuffling\n",
    "v=np.array([1,2,3,4,5,6])\n",
    "np.random.shuffle(v)\n",
    "print(v)"
   ]
  },
  {
   "cell_type": "code",
   "execution_count": 81,
   "metadata": {},
   "outputs": [
    {
     "name": "stdout",
     "output_type": "stream",
     "text": [
      "[6 3 1 2 4 5]\n"
     ]
    }
   ],
   "source": [
    "#permutation\n",
    "v=np.array([1,2,3,4,5,6])\n",
    "print(np.random.permutation(v))"
   ]
  },
  {
   "cell_type": "code",
   "execution_count": 91,
   "metadata": {},
   "outputs": [
    {
     "name": "stdout",
     "output_type": "stream",
     "text": [
      "-0.4480736161291701\n",
      "3.141592653589793\n",
      "2.718281828459045\n",
      "4.0\n",
      "256\n",
      "120\n"
     ]
    }
   ],
   "source": [
    "print(np.cos(90))\n",
    "print(np.pi)\n",
    "print(np.e)\n",
    "print(np.sqrt(16))\n",
    "print(np.square(16))\n",
    "print(np.math.factorial(5))"
   ]
  },
  {
   "cell_type": "code",
   "execution_count": null,
   "metadata": {},
   "outputs": [],
   "source": []
  },
  {
   "cell_type": "code",
   "execution_count": null,
   "metadata": {},
   "outputs": [],
   "source": []
  },
  {
   "cell_type": "code",
   "execution_count": null,
   "metadata": {},
   "outputs": [],
   "source": []
  }
 ],
 "metadata": {
  "kernelspec": {
   "display_name": "Python 3",
   "language": "python",
   "name": "python3"
  },
  "language_info": {
   "codemirror_mode": {
    "name": "ipython",
    "version": 3
   },
   "file_extension": ".py",
   "mimetype": "text/x-python",
   "name": "python",
   "nbconvert_exporter": "python",
   "pygments_lexer": "ipython3",
   "version": "3.7.7"
  }
 },
 "nbformat": 4,
 "nbformat_minor": 4
}
